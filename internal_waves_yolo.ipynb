{
 "cells": [
  {
   "cell_type": "markdown",
   "metadata": {},
   "source": [
    "# AIR Centre - Kaggle Competition\n",
    "## Automatic Identification of Internal Waves \n",
    "\n",
    "by Emanuel Castanho"
   ]
  },
  {
   "cell_type": "code",
   "execution_count": null,
   "metadata": {},
   "outputs": [],
   "source": [
    "# CoLab: Install dependencies\n",
    "\n",
    "!pip install ultralytics==8.2.82"
   ]
  },
  {
   "cell_type": "code",
   "execution_count": 8,
   "metadata": {},
   "outputs": [],
   "source": [
    "# Libraries\n",
    "\n",
    "import torch\n",
    "import os\n",
    "from ultralytics import YOLO\n",
    "import pandas as pd\n",
    "import shutil\n",
    "import matplotlib.pyplot as plt\n",
    "from sklearn.model_selection import train_test_split\n",
    "from sklearn.metrics import accuracy_score, f1_score, precision_score, recall_score, ConfusionMatrixDisplay"
   ]
  },
  {
   "cell_type": "code",
   "execution_count": 2,
   "metadata": {},
   "outputs": [],
   "source": [
    "# Defined functions\n",
    "\n",
    "def create_folder(folder_path):\n",
    "    if not os.path.exists(folder_path):\n",
    "        os.mkdir(folder_path)"
   ]
  },
  {
   "cell_type": "code",
   "execution_count": 3,
   "metadata": {},
   "outputs": [
    {
     "name": "stdout",
     "output_type": "stream",
     "text": [
      "GPU not available, using CPU\n"
     ]
    }
   ],
   "source": [
    "# Check if GPU is available\n",
    "\n",
    "if torch.cuda.is_available():\n",
    "    print(\"GPU available\")\n",
    "    torch.cuda.set_device(0)\n",
    "    device = 0 # Single GPU, there is support for multiple\n",
    "else:\n",
    "    print(\"GPU not available, using CPU\")\n",
    "    torch.cuda.set_device(-1)\n",
    "    device = \"cpu\""
   ]
  },
  {
   "cell_type": "code",
   "execution_count": 4,
   "metadata": {},
   "outputs": [],
   "source": [
    "# Create data and internal-waves folders\n",
    "\n",
    "data_folder_path = \"data\"\n",
    "create_folder(data_folder_path)\n",
    "\n",
    "iwaves_folder_path = os.path.join(data_folder_path, \"internal-waves\")\n",
    "create_folder(iwaves_folder_path)"
   ]
  },
  {
   "cell_type": "code",
   "execution_count": null,
   "metadata": {},
   "outputs": [],
   "source": [
    "# Download dataset from Kaggle, move and unzip\n",
    "\n",
    "!kaggle competitions download -c internal-waves\n",
    "!mv internal-waves.zip {data_folder_path}\n",
    "!unzip {data_folder_path}/internal-waves.zip -d {iwaves_folder_path}\n",
    "!rm -r {data_folder_path}/internal-waves.zip"
   ]
  },
  {
   "cell_type": "code",
   "execution_count": null,
   "metadata": {},
   "outputs": [],
   "source": [
    "# Organise data for YOLO v8 classification\n",
    "\n",
    "# 0 - no internal wave\n",
    "# 1 - internal wave\n",
    "\n",
    "# ID - Image ID\n",
    "# GT - Ground Truth\n",
    "\n",
    "# internal-waves_fmt/\n",
    "# |\n",
    "# |-- train/\n",
    "# |   |-- 1/\n",
    "# |   |   |-- ID_GT.png\n",
    "# |   |   |-- ID_GT.png\n",
    "# |   |   |-- ...\n",
    "# |   |\n",
    "# |   |-- 0/\n",
    "# |   |   |-- ID_GT.png\n",
    "# |   |   |-- ID_GT.png\n",
    "# |   |   |-- ...\n",
    "# |\n",
    "# |-- val/\n",
    "# |   |-- 1/\n",
    "# |   |   |-- ...\n",
    "# |   |\n",
    "# |   |-- 0/\n",
    "# |   |   |-- ...\n",
    "\n",
    "iwaves_fmt_folder_path = os.path.join(data_folder_path, \"internal-waves_fmt\")\n",
    "create_folder(iwaves_fmt_folder_path)\n",
    "\n",
    "train_fmt_folder_path = os.path.join(iwaves_fmt_folder_path, \"train\")\n",
    "create_folder(train_fmt_folder_path)\n",
    "train_pos_folder_path = os.path.join(train_fmt_folder_path, \"1\")\n",
    "create_folder(train_pos_folder_path)\n",
    "train_neg_folder_path = os.path.join(train_fmt_folder_path, \"0\")\n",
    "create_folder(train_neg_folder_path)\n",
    "\n",
    "val_fmt_folder_path = os.path.join(iwaves_fmt_folder_path, \"val\")\n",
    "create_folder(val_fmt_folder_path)\n",
    "val_pos_folder_path = os.path.join(val_fmt_folder_path, \"1\")\n",
    "create_folder(val_pos_folder_path)\n",
    "val_neg_folder_path = os.path.join(val_fmt_folder_path, \"0\")\n",
    "create_folder(val_neg_folder_path)"
   ]
  },
  {
   "cell_type": "code",
   "execution_count": null,
   "metadata": {},
   "outputs": [],
   "source": [
    "# Open Train csv with id and ground truth\n",
    "\n",
    "train_csv_path = os.path.join(iwaves_folder_path, \"train.csv\")\n",
    "train_df = pd.read_csv(train_csv_path)\n",
    "train_df.head()"
   ]
  },
  {
   "cell_type": "code",
   "execution_count": null,
   "metadata": {},
   "outputs": [],
   "source": [
    "# Split some Train to use as Validation (30%)\n",
    "\n",
    "id_train, id_val, gt_train, gt_val = train_test_split(train_df[\"id\"], train_df[\"ground_truth\"], \n",
    "                                                      test_size=0.30, random_state=42)"
   ]
  },
  {
   "cell_type": "code",
   "execution_count": null,
   "metadata": {},
   "outputs": [],
   "source": [
    "# Copy Train images to new Train\n",
    "\n",
    "for id, gt in zip(id_train, gt_train):\n",
    "    src = os.path.join(iwaves_folder_path, \"images_train-20240709T094004Z-001\", \n",
    "                       \"images_train\", str(id)+\".png\")\n",
    "    if gt == 1:\n",
    "        dst = os.path.join(train_pos_folder_path, str(id)+'_'+str(gt)+\".png\")\n",
    "    else:\n",
    "        dst = os.path.join(train_neg_folder_path, str(id)+'_'+str(gt)+\".png\") \n",
    "    shutil.copy(src, dst) "
   ]
  },
  {
   "cell_type": "code",
   "execution_count": null,
   "metadata": {},
   "outputs": [],
   "source": [
    "# Copy Train images to Validation\n",
    "\n",
    "for id, gt in zip(id_val, gt_val):\n",
    "    src = os.path.join(iwaves_folder_path, \"images_train-20240709T094004Z-001\", \n",
    "                       \"images_train\", str(id)+\".png\")\n",
    "    if gt == 1:\n",
    "        dst = os.path.join(val_pos_folder_path, str(id)+'_'+str(gt)+\".png\")\n",
    "    else:\n",
    "        dst = os.path.join(val_neg_folder_path, str(id)+'_'+str(gt)+\".png\") \n",
    "    shutil.copy(src, dst) "
   ]
  },
  {
   "cell_type": "code",
   "execution_count": null,
   "metadata": {},
   "outputs": [],
   "source": [
    "# Configure TensorBoard\n",
    "# If using CoLab, open on Chrome\n",
    "\n",
    "%load_ext tensorboard\n",
    "%tensorboard --logdir runs"
   ]
  },
  {
   "cell_type": "code",
   "execution_count": null,
   "metadata": {},
   "outputs": [],
   "source": [
    "# Load pre-trained YOLO model\n",
    "\n",
    "model = YOLO(os.path.join(\"pre-trained_models\", \"yolov8x-cls.pt\"))"
   ]
  },
  {
   "cell_type": "code",
   "execution_count": null,
   "metadata": {},
   "outputs": [],
   "source": [
    "# Train the model\n",
    "\n",
    "train_results = model.train(data=iwaves_fmt_folder_path, epochs=100, seed=42, device=device)"
   ]
  },
  {
   "cell_type": "code",
   "execution_count": null,
   "metadata": {},
   "outputs": [],
   "source": [
    "# Inference in the Test dataset\n",
    "\n",
    "# Import best model\n",
    "\n",
    "best_model_path = os.path.join(\"runs\", \"classify\", \"train\", \"weights\", \"best.pt\")\n",
    "best_model = YOLO(best_model_path)\n",
    "\n",
    "# Predict\n",
    "\n",
    "test_folder_path = os.path.join(iwaves_folder_path, \"images_test-20240709T093512Z-001\", \"images_test\")\n",
    "test_results = best_model.predict(source=test_folder_path, save=True, device=device)"
   ]
  },
  {
   "cell_type": "code",
   "execution_count": null,
   "metadata": {},
   "outputs": [],
   "source": [
    "# Save prediction results to CSV\n",
    "\n",
    "image_id = []\n",
    "image_prediction = []\n",
    "\n",
    "for result in test_results:\n",
    "    image_id.append(os.path.basename(result.path)[:-4])\n",
    "    image_prediction.append(result.probs.top1)\n",
    "  \n",
    "submission_df = pd.DataFrame({\"id\": image_id, \"predicted\": image_prediction})\n",
    "submission_df.sort_values(by=\"id\", inplace=True, lambda x: x.astype(int))\n",
    "submission_df.to_csv(\"submission.csv\", index=False)"
   ]
  },
  {
   "cell_type": "code",
   "execution_count": 5,
   "metadata": {},
   "outputs": [],
   "source": [
    "# Compare submission with given solution\n",
    "\n",
    "# Open given solution\n",
    "solution_csv_path = os.path.join(iwaves_folder_path, \"solution.csv\")\n",
    "solution_df = pd.read_csv(solution_csv_path)\n",
    "y_test = solution_df[\"ground_truth\"]\n",
    "\n",
    "# Open submission\n",
    "submission_csv_path = \"submission.csv\"\n",
    "submission_df = pd.read_csv(submission_csv_path)\n",
    "y_pred = submission_df[\"predicted\"]"
   ]
  },
  {
   "cell_type": "code",
   "execution_count": 12,
   "metadata": {},
   "outputs": [
    {
     "name": "stdout",
     "output_type": "stream",
     "text": [
      "Precision: 0.97\n",
      "Accuracy: 0.97\n",
      "Recall: 0.97\n",
      "F1-Score: 0.97\n"
     ]
    }
   ],
   "source": [
    "# Basic metrics\n",
    "\n",
    "print(\"Precision: \" + \"{0:.2f}\".format(precision_score(y_test, y_pred, average=\"macro\")))\n",
    "print(\"Accuracy: \" + \"{0:.2f}\".format(accuracy_score(y_test, y_pred)))\n",
    "print(\"Recall: \" + \"{0:.2f}\".format(recall_score(y_test, y_pred, average=\"macro\")))\n",
    "print(\"F1-Score: \" + \"{0:.2f}\".format(f1_score(y_test, y_pred, average=\"macro\")))"
   ]
  },
  {
   "cell_type": "code",
   "execution_count": 11,
   "metadata": {},
   "outputs": [
    {
     "data": {
      "image/png": "[encoded data removed]",
      "text/plain": [
       "<Figure size 640x480 with 1 Axes>"
      ]
     },
     "metadata": {},
     "output_type": "display_data"
    }
   ],
   "source": [
    "# Confusion matrix\n",
    "\n",
    "ConfusionMatrixDisplay.from_predictions(y_test, y_pred, normalize=\"true\", cmap=\"Blues\", colorbar=False)\n",
    "plt.show()"
   ]
  },
  {
   "cell_type": "code",
   "execution_count": null,
   "metadata": {},
   "outputs": [],
   "source": []
  }
 ],
 "metadata": {
  "kernelspec": {
   "display_name": "internal_waves_yolo-env",
   "language": "python",
   "name": "python3"
  },
  "language_info": {
   "codemirror_mode": {
    "name": "ipython",
    "version": 3
   },
   "file_extension": ".py",
   "mimetype": "text/x-python",
   "name": "python",
   "nbconvert_exporter": "python",
   "pygments_lexer": "ipython3",
   "version": "3.10.14"
  }
 },
 "nbformat": 4,
 "nbformat_minor": 2
}
